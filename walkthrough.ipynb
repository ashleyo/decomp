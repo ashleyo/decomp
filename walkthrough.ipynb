{
 "cells": [
  {
   "attachments": {},
   "cell_type": "markdown",
   "metadata": {},
   "source": [
    "Get the data into a data frame and check that it looks good. Note that our data has no headings row, so we furnish names for the columns\n"
   ]
  },
  {
   "cell_type": "code",
   "execution_count": 31,
   "metadata": {},
   "outputs": [
    {
     "name": "stdout",
     "output_type": "stream",
     "text": [
      "         Date      Time        Product  Quantity OrderValue\n",
      "0  20/08/2005  11:15 PM            Cod       1.0     £2.50 \n",
      "1  31/12/2009   5:32 PM         Plaice       1.0     £2.90 \n",
      "2  31/12/2009   5:34 PM        Sausage       2.0     £3.00 \n",
      "3  31/12/2009   5:39 PM          Fanta       1.0     £0.65 \n",
      "4  31/12/2009   5:41 PM  Chips (small)       4.0     £3.20 \n"
     ]
    }
   ],
   "source": [
    "import pandas as pd\n",
    "index=[\"Date\",\"Time\",\"Product\",\"Quantity\",\"OrderValue\"]\n",
    "\n",
    "df = pd.read_csv('SalesRecords.csv', names=index )\n",
    "print(df.head())"
   ]
  },
  {
   "attachments": {},
   "cell_type": "markdown",
   "metadata": {},
   "source": [
    "Drop any rows with missing data. In a real case you would probably want to examine them, but for this example let's be rash. Notice use of `inplace` to mutate the existing data, default returns a copy. "
   ]
  },
  {
   "cell_type": "markdown",
   "metadata": {},
   "source": []
  },
  {
   "cell_type": "code",
   "execution_count": 32,
   "metadata": {},
   "outputs": [
    {
     "data": {
      "text/html": [
       "<div>\n",
       "<style scoped>\n",
       "    .dataframe tbody tr th:only-of-type {\n",
       "        vertical-align: middle;\n",
       "    }\n",
       "\n",
       "    .dataframe tbody tr th {\n",
       "        vertical-align: top;\n",
       "    }\n",
       "\n",
       "    .dataframe thead th {\n",
       "        text-align: right;\n",
       "    }\n",
       "</style>\n",
       "<table border=\"1\" class=\"dataframe\">\n",
       "  <thead>\n",
       "    <tr style=\"text-align: right;\">\n",
       "      <th></th>\n",
       "      <th>Date</th>\n",
       "      <th>Time</th>\n",
       "      <th>Product</th>\n",
       "      <th>Quantity</th>\n",
       "      <th>OrderValue</th>\n",
       "    </tr>\n",
       "  </thead>\n",
       "  <tbody>\n",
       "    <tr>\n",
       "      <th>28497</th>\n",
       "      <td>31/12/2011</td>\n",
       "      <td>11:13 PM</td>\n",
       "      <td>Chips (large)</td>\n",
       "      <td>2.0</td>\n",
       "      <td>£2.00</td>\n",
       "    </tr>\n",
       "    <tr>\n",
       "      <th>28498</th>\n",
       "      <td>31/12/2011</td>\n",
       "      <td>11:17 PM</td>\n",
       "      <td>Plaice</td>\n",
       "      <td>3.0</td>\n",
       "      <td>£8.70</td>\n",
       "    </tr>\n",
       "    <tr>\n",
       "      <th>28499</th>\n",
       "      <td>31/12/2011</td>\n",
       "      <td>11:24 PM</td>\n",
       "      <td>Haddock</td>\n",
       "      <td>1.0</td>\n",
       "      <td>£2.85</td>\n",
       "    </tr>\n",
       "    <tr>\n",
       "      <th>28500</th>\n",
       "      <td>1st May 2010</td>\n",
       "      <td>7:51 PM</td>\n",
       "      <td>Chips (small)</td>\n",
       "      <td>2.0</td>\n",
       "      <td>£1.60</td>\n",
       "    </tr>\n",
       "    <tr>\n",
       "      <th>28501</th>\n",
       "      <td>22/08/0011</td>\n",
       "      <td>6:53 PM</td>\n",
       "      <td>Chips (small)</td>\n",
       "      <td>2.0</td>\n",
       "      <td>£1.60</td>\n",
       "    </tr>\n",
       "  </tbody>\n",
       "</table>\n",
       "</div>"
      ],
      "text/plain": [
       "               Date      Time        Product  Quantity OrderValue\n",
       "28497    31/12/2011  11:13 PM  Chips (large)       2.0     £2.00 \n",
       "28498    31/12/2011  11:17 PM         Plaice       3.0     £8.70 \n",
       "28499    31/12/2011  11:24 PM        Haddock       1.0     £2.85 \n",
       "28500  1st May 2010   7:51 PM  Chips (small)       2.0     £1.60 \n",
       "28501    22/08/0011   6:53 PM  Chips (small)       2.0     £1.60 "
      ]
     },
     "execution_count": 32,
     "metadata": {},
     "output_type": "execute_result"
    }
   ],
   "source": [
    "df.dropna(inplace=True)\n",
    "df.tail()"
   ]
  },
  {
   "attachments": {},
   "cell_type": "markdown",
   "metadata": {},
   "source": [
    "Let's add a categorical ProductType category to (eventually) replace the string Product. We'll print it to see the categories."
   ]
  },
  {
   "cell_type": "code",
   "execution_count": 33,
   "metadata": {},
   "outputs": [
    {
     "name": "stdout",
     "output_type": "stream",
     "text": [
      "['COD', 'Chips', 'Chips (large)', 'Chips (small)', 'Cod', 'Coke', 'Fanta', 'Fish', 'Haddock', 'Place', 'Plaice', 'Pliace', 'Sausage', 'Soss']\n"
     ]
    }
   ],
   "source": [
    "df[\"ProductType\"]=df[\"Product\"].astype(\"category\")\n",
    "print(df[\"ProductType\"].cat.categories.tolist())"
   ]
  },
  {
   "attachments": {},
   "cell_type": "markdown",
   "metadata": {},
   "source": [
    "Here we will use our knowledge to pick the 'right' categories, in a later example we will examine the numbers in each category.\n",
    "We'll also drop the (string) Products category "
   ]
  },
  {
   "cell_type": "code",
   "execution_count": 34,
   "metadata": {},
   "outputs": [
    {
     "name": "stdout",
     "output_type": "stream",
     "text": [
      "               Date      Time  Quantity OrderValue    ProductType\n",
      "28497    31/12/2011  11:13 PM       2.0     £2.00   Chips (large)\n",
      "28498    31/12/2011  11:17 PM       3.0     £8.70          Plaice\n",
      "28499    31/12/2011  11:24 PM       1.0     £2.85         Haddock\n",
      "28500  1st May 2010   7:51 PM       2.0     £1.60   Chips (small)\n",
      "28501    22/08/0011   6:53 PM       2.0     £1.60   Chips (small)\n"
     ]
    }
   ],
   "source": [
    "good_products = ['Chips (large)', 'Chips (small)', 'Cod', 'Coke', 'Fanta', 'Haddock', 'Place', 'Plaice', 'Sausage']\n",
    "df = df[df[\"ProductType\"].isin(good_products)]\n",
    "df.drop(columns=['Product'], inplace=True)\n",
    "print(df.tail())\n"
   ]
  },
  {
   "attachments": {},
   "cell_type": "markdown",
   "metadata": {},
   "source": [
    "The OrderValue column has '£' signs in it and also variable spaces. We can use 'vector' string functions from pandas to operate on all cells without an explicit loop. Once we have done that we can attempt to convert from string to float. We'll drop any rows that fail to convert."
   ]
  },
  {
   "cell_type": "code",
   "execution_count": 35,
   "metadata": {},
   "outputs": [
    {
     "name": "stdout",
     "output_type": "stream",
     "text": [
      "               Date      Time  Quantity  OrderValue    ProductType\n",
      "28497    31/12/2011  11:13 PM       2.0        2.00  Chips (large)\n",
      "28498    31/12/2011  11:17 PM       3.0        8.70         Plaice\n",
      "28499    31/12/2011  11:24 PM       1.0        2.85        Haddock\n",
      "28500  1st May 2010   7:51 PM       2.0        1.60  Chips (small)\n",
      "28501    22/08/0011   6:53 PM       2.0        1.60  Chips (small)\n"
     ]
    }
   ],
   "source": [
    "df[\"OrderValue\"] = df[\"OrderValue\"].str.strip(' £')\n",
    "df[\"OrderValue\"] = df[\"OrderValue\"].astype(float, errors=\"ignore\")\n",
    "df.dropna(inplace=True)\n",
    "print(df.tail())"
   ]
  },
  {
   "attachments": {},
   "cell_type": "markdown",
   "metadata": {},
   "source": [
    "Similarly 'Quantity' should be an int"
   ]
  },
  {
   "cell_type": "code",
   "execution_count": 36,
   "metadata": {},
   "outputs": [
    {
     "name": "stdout",
     "output_type": "stream",
     "text": [
      "               Date      Time  Quantity  OrderValue    ProductType\n",
      "0        20/08/2005  11:15 PM         1        2.50            Cod\n",
      "1        31/12/2009   5:32 PM         1        2.90         Plaice\n",
      "2        31/12/2009   5:34 PM         2        3.00        Sausage\n",
      "3        31/12/2009   5:39 PM         1        0.65          Fanta\n",
      "4        31/12/2009   5:41 PM         4        3.20  Chips (small)\n",
      "...             ...       ...       ...         ...            ...\n",
      "28497    31/12/2011  11:13 PM         2        2.00  Chips (large)\n",
      "28498    31/12/2011  11:17 PM         3        8.70         Plaice\n",
      "28499    31/12/2011  11:24 PM         1        2.85        Haddock\n",
      "28500  1st May 2010   7:51 PM         2        1.60  Chips (small)\n",
      "28501    22/08/0011   6:53 PM         2        1.60  Chips (small)\n",
      "\n",
      "[28492 rows x 5 columns]\n"
     ]
    }
   ],
   "source": [
    "df[\"Quantity\"]=df[\"Quantity\"].astype(int)\n",
    "print(df)"
   ]
  },
  {
   "attachments": {},
   "cell_type": "markdown",
   "metadata": {},
   "source": [
    "Now we have numbers, we can do arithmetic. Note use of 'groupby' and 'size' to find out how many are in each category"
   ]
  },
  {
   "cell_type": "code",
   "execution_count": 37,
   "metadata": {},
   "outputs": [
    {
     "name": "stdout",
     "output_type": "stream",
     "text": [
      "0        2.50\n",
      "1        2.90\n",
      "2        1.50\n",
      "3        0.65\n",
      "4        0.80\n",
      "         ... \n",
      "28497    1.00\n",
      "28498    2.90\n",
      "28499    2.85\n",
      "28500    0.80\n",
      "28501    0.80\n",
      "Name: Check, Length: 28492, dtype: category\n",
      "Categories (17, float64): [0.100000, 0.228571, 0.600000, 0.650000, ..., 2.90, 3.75, 5.00, 285.00]\n",
      "Check\n",
      "0.1                      1\n",
      "0.2285714285714286       1\n",
      "0.6                   2154\n",
      "0.65                  2000\n",
      "0.7                      1\n",
      "0.7999999999999999    1225\n",
      "0.8                   3719\n",
      "1.0                   5180\n",
      "1.5                   1981\n",
      "2.0                      1\n",
      "2.5                   4038\n",
      "2.6                      1\n",
      "2.85                  4122\n",
      "2.9                   4065\n",
      "3.75                     1\n",
      "5.0                      1\n",
      "285.0                    1\n",
      "dtype: int64\n"
     ]
    }
   ],
   "source": [
    "df[\"Check\"]=(df[\"OrderValue\"]/df[\"Quantity\"]).astype(\"category\")\n",
    "print(df[\"Check\"])\n",
    "print(df.groupby(\"Check\").size())"
   ]
  }
 ],
 "metadata": {
  "kernelspec": {
   "display_name": "Python 3",
   "language": "python",
   "name": "python3"
  },
  "language_info": {
   "codemirror_mode": {
    "name": "ipython",
    "version": 3
   },
   "file_extension": ".py",
   "mimetype": "text/x-python",
   "name": "python",
   "nbconvert_exporter": "python",
   "pygments_lexer": "ipython3",
   "version": "3.11.0"
  },
  "orig_nbformat": 4
 },
 "nbformat": 4,
 "nbformat_minor": 2
}
